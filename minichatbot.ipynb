{
 "cells": [
  {
   "cell_type": "markdown",
   "metadata": {},
   "source": [
    "# MINI CHATBOT \n"
   ]
  },
  {
   "cell_type": "markdown",
   "metadata": {},
   "source": [
    "IMPORT ALL THE NECESSARY PACKAGES"
   ]
  },
  {
   "cell_type": "code",
   "execution_count": 30,
   "metadata": {},
   "outputs": [],
   "source": [
    "import numpy as np\n",
    "import pandas as pd\n",
    "import webbrowser\n",
    "import matplotlib.pyplot as plt\n",
    "from IPython.core.display import HTML\n",
    "import os"
   ]
  },
  {
   "cell_type": "markdown",
   "metadata": {},
   "source": [
    "LET'S LOOK OVER AVAILABLE THE FILES AND FOLDER"
   ]
  },
  {
   "cell_type": "code",
   "execution_count": 31,
   "metadata": {},
   "outputs": [
    {
     "data": {
      "text/plain": [
       "['LICENSE-S08,S09', 'README.v1.2', 'S08', 'S09', 'S10']"
      ]
     },
     "execution_count": 31,
     "metadata": {},
     "output_type": "execute_result"
    }
   ],
   "source": [
    "actual_path = \"C:/Users/Sultan/Desktop/chatbot/chatbot\"\n",
    "files_and_folders = os.listdir(actual_path)\n",
    "files_and_folders"
   ]
  },
  {
   "cell_type": "markdown",
   "metadata": {},
   "source": [
    "There are 3 Folder which we going to use"
   ]
  },
  {
   "cell_type": "markdown",
   "metadata": {},
   "source": [
    "LET'S LOOK WHAT ARE THE FILES AND FOLDER AVAILABLE IN S08, S09 AND S10 "
   ]
  },
  {
   "cell_type": "code",
   "execution_count": 35,
   "metadata": {},
   "outputs": [
    {
     "name": "stdout",
     "output_type": "stream",
     "text": [
      "['Book1.csv', 'data1', 'question_answer_pairs.txt']\n",
      "['Book2.csv', 'data2', 'question_answer_pairs.txt']\n",
      "['Book3.csv', 'data3', 'question_answer_pairs.txt']\n"
     ]
    }
   ],
   "source": [
    "s08 = os.listdir(actual_path+\"\\S08\")\n",
    "s09 = os.listdir(actual_path+\"\\S09\")\n",
    "s10 = os.listdir(actual_path+\"\\S10\")\n",
    "\n",
    "print(s08)\n",
    "print(s09)\n",
    "print(s10)"
   ]
  },
  {
   "cell_type": "raw",
   "metadata": {},
   "source": [
    "Each Folder have 2 files (.csv and .txt) and Data Folder\n",
    "We are not going to use any .txt file here "
   ]
  },
  {
   "cell_type": "markdown",
   "metadata": {},
   "source": [
    "LET'S LOOK AT THE EACH .csv FILE"
   ]
  },
  {
   "cell_type": "code",
   "execution_count": 36,
   "metadata": {},
   "outputs": [],
   "source": [
    "# Each folders have csv fiile, txt files and respective data folders\n",
    "# Lets look at the each csv files\n",
    "\n",
    "book1 = pd.read_csv(actual_path + \"\\S08\\Book1.csv\")\n",
    "book2 = pd.read_csv(actual_path + \"\\S09\\Book2.csv\")\n",
    "book3 = pd.read_csv(actual_path + \"\\S10\\Book3.csv\")"
   ]
  },
  {
   "cell_type": "code",
   "execution_count": 37,
   "metadata": {},
   "outputs": [],
   "source": [
    "all_table = [book1.head(), book2.head(), book3.head()]"
   ]
  },
  {
   "cell_type": "markdown",
   "metadata": {},
   "source": [
    "USING IPYTHON PACKAGE WE IMPLEMENT HTML METHOD TO ENABLE HTML TAGS.\n",
    "\n",
    "USING THOSE TAGS WE IMPLEMENT EACH .csv TABLE OVER HTML TABLE TAG.\n",
    "\n",
    "EACH .csv HAS BEEN DISPLAYED IN EACH COLUMN OF HTML TABLE."
   ]
  },
  {
   "cell_type": "code",
   "execution_count": 38,
   "metadata": {},
   "outputs": [
    {
     "data": {
      "text/html": [
       "<table><tr style=\"background-color:white;\"><td><div>\n",
       "<style scoped>\n",
       "    .dataframe tbody tr th:only-of-type {\n",
       "        vertical-align: middle;\n",
       "    }\n",
       "\n",
       "    .dataframe tbody tr th {\n",
       "        vertical-align: top;\n",
       "    }\n",
       "\n",
       "    .dataframe thead th {\n",
       "        text-align: right;\n",
       "    }\n",
       "</style>\n",
       "<table border=\"1\" class=\"dataframe\">\n",
       "  <thead>\n",
       "    <tr style=\"text-align: right;\">\n",
       "      <th></th>\n",
       "      <th>ArticleTitle</th>\n",
       "      <th>Question</th>\n",
       "      <th>Answer</th>\n",
       "      <th>DifficultyFromQuestioner</th>\n",
       "      <th>DifficultyFromAnswerer</th>\n",
       "      <th>ArticleFile</th>\n",
       "    </tr>\n",
       "  </thead>\n",
       "  <tbody>\n",
       "    <tr>\n",
       "      <th>0</th>\n",
       "      <td>Abraham_Lincoln</td>\n",
       "      <td>Was Abraham Lincoln the sixteenth President of...</td>\n",
       "      <td>yes</td>\n",
       "      <td>easy</td>\n",
       "      <td>easy</td>\n",
       "      <td>data/set3/a4</td>\n",
       "    </tr>\n",
       "    <tr>\n",
       "      <th>1</th>\n",
       "      <td>Abraham_Lincoln</td>\n",
       "      <td>Was Abraham Lincoln the sixteenth President of...</td>\n",
       "      <td>Yes.</td>\n",
       "      <td>easy</td>\n",
       "      <td>easy</td>\n",
       "      <td>data/set3/a4</td>\n",
       "    </tr>\n",
       "    <tr>\n",
       "      <th>2</th>\n",
       "      <td>Abraham_Lincoln</td>\n",
       "      <td>Did Lincoln sign the National Banking Act of 1...</td>\n",
       "      <td>yes</td>\n",
       "      <td>easy</td>\n",
       "      <td>medium</td>\n",
       "      <td>data/set3/a4</td>\n",
       "    </tr>\n",
       "    <tr>\n",
       "      <th>3</th>\n",
       "      <td>Abraham_Lincoln</td>\n",
       "      <td>Did Lincoln sign the National Banking Act of 1...</td>\n",
       "      <td>Yes.</td>\n",
       "      <td>easy</td>\n",
       "      <td>easy</td>\n",
       "      <td>data/set3/a4</td>\n",
       "    </tr>\n",
       "    <tr>\n",
       "      <th>4</th>\n",
       "      <td>Abraham_Lincoln</td>\n",
       "      <td>Did his mother die of pneumonia?</td>\n",
       "      <td>no</td>\n",
       "      <td>easy</td>\n",
       "      <td>medium</td>\n",
       "      <td>data/set3/a4</td>\n",
       "    </tr>\n",
       "  </tbody>\n",
       "</table>\n",
       "</div></td><td><div>\n",
       "<style scoped>\n",
       "    .dataframe tbody tr th:only-of-type {\n",
       "        vertical-align: middle;\n",
       "    }\n",
       "\n",
       "    .dataframe tbody tr th {\n",
       "        vertical-align: top;\n",
       "    }\n",
       "\n",
       "    .dataframe thead th {\n",
       "        text-align: right;\n",
       "    }\n",
       "</style>\n",
       "<table border=\"1\" class=\"dataframe\">\n",
       "  <thead>\n",
       "    <tr style=\"text-align: right;\">\n",
       "      <th></th>\n",
       "      <th>ArticleTitle</th>\n",
       "      <th>Question</th>\n",
       "      <th>Answer</th>\n",
       "      <th>DifficultyFromQuestioner</th>\n",
       "      <th>DifficultyFromAnswerer</th>\n",
       "      <th>ArticleFile</th>\n",
       "    </tr>\n",
       "  </thead>\n",
       "  <tbody>\n",
       "    <tr>\n",
       "      <th>0</th>\n",
       "      <td>Alessandro_Volta</td>\n",
       "      <td>Was Volta an Italian physicist?</td>\n",
       "      <td>yes</td>\n",
       "      <td>easy</td>\n",
       "      <td>easy</td>\n",
       "      <td>data/set4/a10</td>\n",
       "    </tr>\n",
       "    <tr>\n",
       "      <th>1</th>\n",
       "      <td>Alessandro_Volta</td>\n",
       "      <td>Was Volta an Italian physicist?</td>\n",
       "      <td>yes</td>\n",
       "      <td>easy</td>\n",
       "      <td>easy</td>\n",
       "      <td>data/set4/a10</td>\n",
       "    </tr>\n",
       "    <tr>\n",
       "      <th>2</th>\n",
       "      <td>Alessandro_Volta</td>\n",
       "      <td>Is Volta buried in the city of Pittsburgh?</td>\n",
       "      <td>no</td>\n",
       "      <td>easy</td>\n",
       "      <td>easy</td>\n",
       "      <td>data/set4/a10</td>\n",
       "    </tr>\n",
       "    <tr>\n",
       "      <th>3</th>\n",
       "      <td>Alessandro_Volta</td>\n",
       "      <td>Is Volta buried in the city of Pittsburgh?</td>\n",
       "      <td>no</td>\n",
       "      <td>easy</td>\n",
       "      <td>easy</td>\n",
       "      <td>data/set4/a10</td>\n",
       "    </tr>\n",
       "    <tr>\n",
       "      <th>4</th>\n",
       "      <td>Alessandro_Volta</td>\n",
       "      <td>Did Volta have a passion for the study of elec...</td>\n",
       "      <td>yes</td>\n",
       "      <td>easy</td>\n",
       "      <td>medium</td>\n",
       "      <td>data/set4/a10</td>\n",
       "    </tr>\n",
       "  </tbody>\n",
       "</table>\n",
       "</div></td><td><div>\n",
       "<style scoped>\n",
       "    .dataframe tbody tr th:only-of-type {\n",
       "        vertical-align: middle;\n",
       "    }\n",
       "\n",
       "    .dataframe tbody tr th {\n",
       "        vertical-align: top;\n",
       "    }\n",
       "\n",
       "    .dataframe thead th {\n",
       "        text-align: right;\n",
       "    }\n",
       "</style>\n",
       "<table border=\"1\" class=\"dataframe\">\n",
       "  <thead>\n",
       "    <tr style=\"text-align: right;\">\n",
       "      <th></th>\n",
       "      <th>ArticleTitle</th>\n",
       "      <th>Question</th>\n",
       "      <th>Answer</th>\n",
       "      <th>DifficultyFromQuestioner</th>\n",
       "      <th>DifficultyFromAnswerer</th>\n",
       "      <th>ArticleFile</th>\n",
       "    </tr>\n",
       "  </thead>\n",
       "  <tbody>\n",
       "    <tr>\n",
       "      <th>0</th>\n",
       "      <td>Alessandro_Volta</td>\n",
       "      <td>Was Alessandro Volta a professor of chemistry?</td>\n",
       "      <td>Alessandro Volta was not a professor of chemis...</td>\n",
       "      <td>easy</td>\n",
       "      <td>easy</td>\n",
       "      <td>data/set4/a10</td>\n",
       "    </tr>\n",
       "    <tr>\n",
       "      <th>1</th>\n",
       "      <td>Alessandro_Volta</td>\n",
       "      <td>Was Alessandro Volta a professor of chemistry?</td>\n",
       "      <td>No</td>\n",
       "      <td>easy</td>\n",
       "      <td>hard</td>\n",
       "      <td>data/set4/a10</td>\n",
       "    </tr>\n",
       "    <tr>\n",
       "      <th>2</th>\n",
       "      <td>Alessandro_Volta</td>\n",
       "      <td>Did Alessandro Volta invent the remotely opera...</td>\n",
       "      <td>Alessandro Volta did invent the remotely opera...</td>\n",
       "      <td>easy</td>\n",
       "      <td>easy</td>\n",
       "      <td>data/set4/a10</td>\n",
       "    </tr>\n",
       "    <tr>\n",
       "      <th>3</th>\n",
       "      <td>Alessandro_Volta</td>\n",
       "      <td>Did Alessandro Volta invent the remotely opera...</td>\n",
       "      <td>Yes</td>\n",
       "      <td>easy</td>\n",
       "      <td>easy</td>\n",
       "      <td>data/set4/a10</td>\n",
       "    </tr>\n",
       "    <tr>\n",
       "      <th>4</th>\n",
       "      <td>Alessandro_Volta</td>\n",
       "      <td>Was Alessandro Volta taught in public schools?</td>\n",
       "      <td>Volta was taught in public schools.</td>\n",
       "      <td>easy</td>\n",
       "      <td>easy</td>\n",
       "      <td>data/set4/a10</td>\n",
       "    </tr>\n",
       "  </tbody>\n",
       "</table>\n",
       "</div></td></tr></table>"
      ],
      "text/plain": [
       "<IPython.core.display.HTML object>"
      ]
     },
     "execution_count": 38,
     "metadata": {},
     "output_type": "execute_result"
    }
   ],
   "source": [
    "view_tables = HTML('<table><tr style=\"background-color:white;\">' + \n",
    "     ''.join(['<td>' + table._repr_html_() + '</td>' for table in all_table]) +\n",
    "        '</tr></table>')\n",
    "view_tables"
   ]
  },
  {
   "cell_type": "markdown",
   "metadata": {},
   "source": [
    "Since the data path are similar on each table, it's necessary to differentiate before merging all tables\n",
    "\n",
    "let's Rename the data folders of respective csv files"
   ]
  },
  {
   "cell_type": "code",
   "execution_count": 40,
   "metadata": {},
   "outputs": [
    {
     "ename": "FileNotFoundError",
     "evalue": "[WinError 2] The system cannot find the file specified: 'C:/Users/Sultan/Desktop/chatbot/chatbot\\\\S08\\\\data' -> 'C:/Users/Sultan/Desktop/chatbot/chatbot\\\\S08\\\\data1'",
     "output_type": "error",
     "traceback": [
      "\u001b[1;31m---------------------------------------------------------------------------\u001b[0m",
      "\u001b[1;31mFileNotFoundError\u001b[0m                         Traceback (most recent call last)",
      "\u001b[1;32m<ipython-input-40-fa80a06af835>\u001b[0m in \u001b[0;36m<module>\u001b[1;34m\u001b[0m\n\u001b[1;32m----> 1\u001b[1;33m \u001b[0mdata_1\u001b[0m \u001b[1;33m=\u001b[0m \u001b[0mos\u001b[0m\u001b[1;33m.\u001b[0m\u001b[0mrename\u001b[0m\u001b[1;33m(\u001b[0m\u001b[0mactual_path\u001b[0m \u001b[1;33m+\u001b[0m \u001b[1;34m\"\\S08\\data\"\u001b[0m\u001b[1;33m,\u001b[0m \u001b[0mactual_path\u001b[0m \u001b[1;33m+\u001b[0m \u001b[1;34m\"\\S08\\data1\"\u001b[0m\u001b[1;33m)\u001b[0m\u001b[1;33m\u001b[0m\u001b[1;33m\u001b[0m\u001b[0m\n\u001b[0m\u001b[0;32m      2\u001b[0m \u001b[0mdata_2\u001b[0m \u001b[1;33m=\u001b[0m \u001b[0mos\u001b[0m\u001b[1;33m.\u001b[0m\u001b[0mrename\u001b[0m\u001b[1;33m(\u001b[0m\u001b[0mactual_path\u001b[0m \u001b[1;33m+\u001b[0m \u001b[1;34m\"\\S09\\data\"\u001b[0m\u001b[1;33m,\u001b[0m \u001b[0mactual_path\u001b[0m \u001b[1;33m+\u001b[0m \u001b[1;34m\"\\S09\\data2\"\u001b[0m\u001b[1;33m)\u001b[0m\u001b[1;33m\u001b[0m\u001b[1;33m\u001b[0m\u001b[0m\n\u001b[0;32m      3\u001b[0m \u001b[0mdata_3\u001b[0m \u001b[1;33m=\u001b[0m \u001b[0mos\u001b[0m\u001b[1;33m.\u001b[0m\u001b[0mrename\u001b[0m\u001b[1;33m(\u001b[0m\u001b[0mactual_path\u001b[0m \u001b[1;33m+\u001b[0m \u001b[1;34m\"\\S10\\data\"\u001b[0m\u001b[1;33m,\u001b[0m \u001b[0mactual_path\u001b[0m \u001b[1;33m+\u001b[0m \u001b[1;34m\"\\S10\\data3\"\u001b[0m\u001b[1;33m)\u001b[0m\u001b[1;33m\u001b[0m\u001b[1;33m\u001b[0m\u001b[0m\n",
      "\u001b[1;31mFileNotFoundError\u001b[0m: [WinError 2] The system cannot find the file specified: 'C:/Users/Sultan/Desktop/chatbot/chatbot\\\\S08\\\\data' -> 'C:/Users/Sultan/Desktop/chatbot/chatbot\\\\S08\\\\data1'"
     ]
    }
   ],
   "source": [
    "data_1 = os.rename(actual_path + \"\\S08\\data\", actual_path + \"\\S08\\data1\")\n",
    "data_2 = os.rename(actual_path + \"\\S09\\data\", actual_path + \"\\S09\\data2\")\n",
    "data_3 = os.rename(actual_path + \"\\S10\\data\", actual_path + \"\\S10\\data3\")"
   ]
  },
  {
   "cell_type": "code",
   "execution_count": null,
   "metadata": {},
   "outputs": [],
   "source": [
    "print(s08)\n",
    "print(s09)\n",
    "print(s10)"
   ]
  },
  {
   "cell_type": "code",
   "execution_count": null,
   "metadata": {
    "scrolled": false
   },
   "outputs": [],
   "source": [
    "# Now the folder name has been changed \n",
    "# it's also necessary to change the path in each csv file on the Articlefile feature\n",
    "book1['ArticleFile'] = book1['ArticleFile'].map(lambda x : \"S08/data1\" + str(x)[4:])\n",
    "book2['ArticleFile'] = book2['ArticleFile'].map(lambda x : \"S09/data2\" + str(x)[4:])\n",
    "book3['ArticleFile'] = book3['ArticleFile'].map(lambda x : \"S10/data3\" + str(x)[4:])"
   ]
  },
  {
   "cell_type": "code",
   "execution_count": null,
   "metadata": {},
   "outputs": [],
   "source": [
    "all_table = [book1.head(), book2.head(), book3.head()]\n",
    "view_tables = HTML('<table><tr style=\"background-color:white;\">' + \n",
    "     ''.join(['<td>' + table._repr_html_() + '</td>' for table in all_table]) +\n",
    "        '</tr></table>')\n",
    "view_tables"
   ]
  },
  {
   "cell_type": "code",
   "execution_count": null,
   "metadata": {},
   "outputs": [],
   "source": [
    "print(book1.shape)\n",
    "print(book2.shape)\n",
    "print(book3.shape)"
   ]
  },
  {
   "cell_type": "code",
   "execution_count": 41,
   "metadata": {},
   "outputs": [],
   "source": [
    "merged = book1.append(book2).append(book3)\n",
    "merged.to_csv(actual_path + \"\\wiki_dataset.csv\")"
   ]
  },
  {
   "cell_type": "code",
   "execution_count": 42,
   "metadata": {},
   "outputs": [
    {
     "data": {
      "text/html": [
       "<div>\n",
       "<style scoped>\n",
       "    .dataframe tbody tr th:only-of-type {\n",
       "        vertical-align: middle;\n",
       "    }\n",
       "\n",
       "    .dataframe tbody tr th {\n",
       "        vertical-align: top;\n",
       "    }\n",
       "\n",
       "    .dataframe thead th {\n",
       "        text-align: right;\n",
       "    }\n",
       "</style>\n",
       "<table border=\"1\" class=\"dataframe\">\n",
       "  <thead>\n",
       "    <tr style=\"text-align: right;\">\n",
       "      <th></th>\n",
       "      <th>Unnamed: 0</th>\n",
       "      <th>ArticleTitle</th>\n",
       "      <th>Question</th>\n",
       "      <th>Answer</th>\n",
       "      <th>DifficultyFromQuestioner</th>\n",
       "      <th>DifficultyFromAnswerer</th>\n",
       "      <th>ArticleFile</th>\n",
       "    </tr>\n",
       "  </thead>\n",
       "  <tbody>\n",
       "    <tr>\n",
       "      <th>0</th>\n",
       "      <td>0</td>\n",
       "      <td>Abraham_Lincoln</td>\n",
       "      <td>Was Abraham Lincoln the sixteenth President of...</td>\n",
       "      <td>yes</td>\n",
       "      <td>easy</td>\n",
       "      <td>easy</td>\n",
       "      <td>data/set3/a4</td>\n",
       "    </tr>\n",
       "    <tr>\n",
       "      <th>1</th>\n",
       "      <td>1</td>\n",
       "      <td>Abraham_Lincoln</td>\n",
       "      <td>Was Abraham Lincoln the sixteenth President of...</td>\n",
       "      <td>Yes.</td>\n",
       "      <td>easy</td>\n",
       "      <td>easy</td>\n",
       "      <td>data/set3/a4</td>\n",
       "    </tr>\n",
       "    <tr>\n",
       "      <th>2</th>\n",
       "      <td>2</td>\n",
       "      <td>Abraham_Lincoln</td>\n",
       "      <td>Did Lincoln sign the National Banking Act of 1...</td>\n",
       "      <td>yes</td>\n",
       "      <td>easy</td>\n",
       "      <td>medium</td>\n",
       "      <td>data/set3/a4</td>\n",
       "    </tr>\n",
       "    <tr>\n",
       "      <th>3</th>\n",
       "      <td>3</td>\n",
       "      <td>Abraham_Lincoln</td>\n",
       "      <td>Did Lincoln sign the National Banking Act of 1...</td>\n",
       "      <td>Yes.</td>\n",
       "      <td>easy</td>\n",
       "      <td>easy</td>\n",
       "      <td>data/set3/a4</td>\n",
       "    </tr>\n",
       "    <tr>\n",
       "      <th>4</th>\n",
       "      <td>4</td>\n",
       "      <td>Abraham_Lincoln</td>\n",
       "      <td>Did his mother die of pneumonia?</td>\n",
       "      <td>no</td>\n",
       "      <td>easy</td>\n",
       "      <td>medium</td>\n",
       "      <td>data/set3/a4</td>\n",
       "    </tr>\n",
       "  </tbody>\n",
       "</table>\n",
       "</div>"
      ],
      "text/plain": [
       "   Unnamed: 0     ArticleTitle  \\\n",
       "0           0  Abraham_Lincoln   \n",
       "1           1  Abraham_Lincoln   \n",
       "2           2  Abraham_Lincoln   \n",
       "3           3  Abraham_Lincoln   \n",
       "4           4  Abraham_Lincoln   \n",
       "\n",
       "                                            Question Answer  \\\n",
       "0  Was Abraham Lincoln the sixteenth President of...    yes   \n",
       "1  Was Abraham Lincoln the sixteenth President of...   Yes.   \n",
       "2  Did Lincoln sign the National Banking Act of 1...    yes   \n",
       "3  Did Lincoln sign the National Banking Act of 1...   Yes.   \n",
       "4                   Did his mother die of pneumonia?     no   \n",
       "\n",
       "  DifficultyFromQuestioner DifficultyFromAnswerer   ArticleFile  \n",
       "0                     easy                   easy  data/set3/a4  \n",
       "1                     easy                   easy  data/set3/a4  \n",
       "2                     easy                 medium  data/set3/a4  \n",
       "3                     easy                   easy  data/set3/a4  \n",
       "4                     easy                 medium  data/set3/a4  "
      ]
     },
     "execution_count": 42,
     "metadata": {},
     "output_type": "execute_result"
    }
   ],
   "source": [
    "# lets read the   merged dataset\n",
    "dset = pd.read_csv(actual_path + \"\\wiki_dataset.csv\")\n",
    "dset.head()"
   ]
  },
  {
   "cell_type": "code",
   "execution_count": 43,
   "metadata": {},
   "outputs": [
    {
     "data": {
      "text/html": [
       "<div>\n",
       "<style scoped>\n",
       "    .dataframe tbody tr th:only-of-type {\n",
       "        vertical-align: middle;\n",
       "    }\n",
       "\n",
       "    .dataframe tbody tr th {\n",
       "        vertical-align: top;\n",
       "    }\n",
       "\n",
       "    .dataframe thead th {\n",
       "        text-align: right;\n",
       "    }\n",
       "</style>\n",
       "<table border=\"1\" class=\"dataframe\">\n",
       "  <thead>\n",
       "    <tr style=\"text-align: right;\">\n",
       "      <th></th>\n",
       "      <th>ArticleTitle</th>\n",
       "      <th>Question</th>\n",
       "      <th>Answer</th>\n",
       "      <th>DifficultyFromQuestioner</th>\n",
       "      <th>DifficultyFromAnswerer</th>\n",
       "      <th>ArticleFile</th>\n",
       "    </tr>\n",
       "  </thead>\n",
       "  <tbody>\n",
       "    <tr>\n",
       "      <th>0</th>\n",
       "      <td>Abraham_Lincoln</td>\n",
       "      <td>Was Abraham Lincoln the sixteenth President of...</td>\n",
       "      <td>yes</td>\n",
       "      <td>easy</td>\n",
       "      <td>easy</td>\n",
       "      <td>data/set3/a4</td>\n",
       "    </tr>\n",
       "    <tr>\n",
       "      <th>1</th>\n",
       "      <td>Abraham_Lincoln</td>\n",
       "      <td>Was Abraham Lincoln the sixteenth President of...</td>\n",
       "      <td>Yes.</td>\n",
       "      <td>easy</td>\n",
       "      <td>easy</td>\n",
       "      <td>data/set3/a4</td>\n",
       "    </tr>\n",
       "    <tr>\n",
       "      <th>2</th>\n",
       "      <td>Abraham_Lincoln</td>\n",
       "      <td>Did Lincoln sign the National Banking Act of 1...</td>\n",
       "      <td>yes</td>\n",
       "      <td>easy</td>\n",
       "      <td>medium</td>\n",
       "      <td>data/set3/a4</td>\n",
       "    </tr>\n",
       "    <tr>\n",
       "      <th>3</th>\n",
       "      <td>Abraham_Lincoln</td>\n",
       "      <td>Did Lincoln sign the National Banking Act of 1...</td>\n",
       "      <td>Yes.</td>\n",
       "      <td>easy</td>\n",
       "      <td>easy</td>\n",
       "      <td>data/set3/a4</td>\n",
       "    </tr>\n",
       "    <tr>\n",
       "      <th>4</th>\n",
       "      <td>Abraham_Lincoln</td>\n",
       "      <td>Did his mother die of pneumonia?</td>\n",
       "      <td>no</td>\n",
       "      <td>easy</td>\n",
       "      <td>medium</td>\n",
       "      <td>data/set3/a4</td>\n",
       "    </tr>\n",
       "  </tbody>\n",
       "</table>\n",
       "</div>"
      ],
      "text/plain": [
       "      ArticleTitle                                           Question Answer  \\\n",
       "0  Abraham_Lincoln  Was Abraham Lincoln the sixteenth President of...    yes   \n",
       "1  Abraham_Lincoln  Was Abraham Lincoln the sixteenth President of...   Yes.   \n",
       "2  Abraham_Lincoln  Did Lincoln sign the National Banking Act of 1...    yes   \n",
       "3  Abraham_Lincoln  Did Lincoln sign the National Banking Act of 1...   Yes.   \n",
       "4  Abraham_Lincoln                   Did his mother die of pneumonia?     no   \n",
       "\n",
       "  DifficultyFromQuestioner DifficultyFromAnswerer   ArticleFile  \n",
       "0                     easy                   easy  data/set3/a4  \n",
       "1                     easy                   easy  data/set3/a4  \n",
       "2                     easy                 medium  data/set3/a4  \n",
       "3                     easy                   easy  data/set3/a4  \n",
       "4                     easy                 medium  data/set3/a4  "
      ]
     },
     "execution_count": 43,
     "metadata": {},
     "output_type": "execute_result"
    }
   ],
   "source": [
    "# let's remove the first column\n",
    "dset = dset.drop(columns=\"Unnamed: 0\")\n",
    "dset.head()"
   ]
  },
  {
   "cell_type": "code",
   "execution_count": 44,
   "metadata": {},
   "outputs": [
    {
     "data": {
      "text/html": [
       "<div>\n",
       "<style scoped>\n",
       "    .dataframe tbody tr th:only-of-type {\n",
       "        vertical-align: middle;\n",
       "    }\n",
       "\n",
       "    .dataframe tbody tr th {\n",
       "        vertical-align: top;\n",
       "    }\n",
       "\n",
       "    .dataframe thead th {\n",
       "        text-align: right;\n",
       "    }\n",
       "</style>\n",
       "<table border=\"1\" class=\"dataframe\">\n",
       "  <thead>\n",
       "    <tr style=\"text-align: right;\">\n",
       "      <th></th>\n",
       "      <th>ArticleTitle</th>\n",
       "      <th>Question</th>\n",
       "      <th>Answer</th>\n",
       "      <th>ArticleFile</th>\n",
       "    </tr>\n",
       "  </thead>\n",
       "  <tbody>\n",
       "    <tr>\n",
       "      <th>0</th>\n",
       "      <td>Abraham_Lincoln</td>\n",
       "      <td>Was Abraham Lincoln the sixteenth President of...</td>\n",
       "      <td>yes</td>\n",
       "      <td>data/set3/a4</td>\n",
       "    </tr>\n",
       "    <tr>\n",
       "      <th>1</th>\n",
       "      <td>Abraham_Lincoln</td>\n",
       "      <td>Was Abraham Lincoln the sixteenth President of...</td>\n",
       "      <td>Yes.</td>\n",
       "      <td>data/set3/a4</td>\n",
       "    </tr>\n",
       "    <tr>\n",
       "      <th>2</th>\n",
       "      <td>Abraham_Lincoln</td>\n",
       "      <td>Did Lincoln sign the National Banking Act of 1...</td>\n",
       "      <td>yes</td>\n",
       "      <td>data/set3/a4</td>\n",
       "    </tr>\n",
       "    <tr>\n",
       "      <th>3</th>\n",
       "      <td>Abraham_Lincoln</td>\n",
       "      <td>Did Lincoln sign the National Banking Act of 1...</td>\n",
       "      <td>Yes.</td>\n",
       "      <td>data/set3/a4</td>\n",
       "    </tr>\n",
       "    <tr>\n",
       "      <th>4</th>\n",
       "      <td>Abraham_Lincoln</td>\n",
       "      <td>Did his mother die of pneumonia?</td>\n",
       "      <td>no</td>\n",
       "      <td>data/set3/a4</td>\n",
       "    </tr>\n",
       "  </tbody>\n",
       "</table>\n",
       "</div>"
      ],
      "text/plain": [
       "      ArticleTitle                                           Question Answer  \\\n",
       "0  Abraham_Lincoln  Was Abraham Lincoln the sixteenth President of...    yes   \n",
       "1  Abraham_Lincoln  Was Abraham Lincoln the sixteenth President of...   Yes.   \n",
       "2  Abraham_Lincoln  Did Lincoln sign the National Banking Act of 1...    yes   \n",
       "3  Abraham_Lincoln  Did Lincoln sign the National Banking Act of 1...   Yes.   \n",
       "4  Abraham_Lincoln                   Did his mother die of pneumonia?     no   \n",
       "\n",
       "    ArticleFile  \n",
       "0  data/set3/a4  \n",
       "1  data/set3/a4  \n",
       "2  data/set3/a4  \n",
       "3  data/set3/a4  \n",
       "4  data/set3/a4  "
      ]
     },
     "execution_count": 44,
     "metadata": {},
     "output_type": "execute_result"
    }
   ],
   "source": [
    "# The DifficultyFromQuestioner and DifficultyFromAnswerer is not needed\n",
    "dset = dset.drop(columns=\"DifficultyFromQuestioner\")\n",
    "dset = dset.drop(columns=\"DifficultyFromAnswerer\")\n",
    "dset.head()"
   ]
  },
  {
   "cell_type": "code",
   "execution_count": null,
   "metadata": {},
   "outputs": [],
   "source": [
    "# Sort the table according to the article title\n",
    "dset = dset.sort_values(\"ArticleTitle\", axis = 0, ascending = True) \n",
    "dset.head()"
   ]
  },
  {
   "cell_type": "code",
   "execution_count": null,
   "metadata": {},
   "outputs": [],
   "source": [
    "dset['ArticleTitle'].describe()"
   ]
  },
  {
   "cell_type": "code",
   "execution_count": null,
   "metadata": {},
   "outputs": [],
   "source": [
    "titles = list(dset['ArticleTitle'].unique())\n",
    "title_dict = {}\n",
    "all_title = list(dset['ArticleTitle'])\n",
    "all_question = list(dset['Question'])\n",
    "all_answer = list(dset['Answer'])\n",
    "all_content = list(dset['ArticleFile'])\n",
    "for title in titles:\n",
    "     title_dict[title] = all_title.count(title)\n",
    "title_dict # key : Title , value : No. of QuestionsQuestion     "
   ]
  },
  {
   "cell_type": "code",
   "execution_count": null,
   "metadata": {},
   "outputs": [],
   "source": [
    "# Remove '\\\\n:1' which is unnecessary\n",
    "del title_dict['\\\\n']\n",
    "titles.remove('\\\\n')"
   ]
  },
  {
   "cell_type": "code",
   "execution_count": 49,
   "metadata": {},
   "outputs": [
    {
     "name": "stdout",
     "output_type": "stream",
     "text": [
      "s\n"
     ]
    }
   ],
   "source": [
    "def chooseTheTopic():\n",
    "    print(\"TOPICS TO SEARCH\"+\"\\n----------------\\n\")\n",
    "    for index, top in enumerate(titles):\n",
    "        print(index+1 , top, end = '     ')     \n",
    "    print(\"\\n___________________________________________________________________________________________________________\")    \n",
    "\n",
    "def displayContent(content):\n",
    "    f= open(\"C:/Users/Sultan/Desktop/chatbot/chatbot/\" + content + \".txt\", \"r\",  encoding=\"utf8\")\n",
    "# #     content = f.read()\n",
    "    #global inp\n",
    "    #f = open(\"C:/Users/Sultan/Desktop/chatbot/chatbot/\"+ content +\".txt\", \"r\")\n",
    "    inp = f.read()[:500]+\".......\"\n",
    "    ##   print(\"fdfDfdgdgvg\")\n",
    "    print(inp)\n",
    "    \n",
    "def displayUrl(content):\n",
    "    print(\"FOR MORE INFORMATION Visit the link->\")\n",
    "    print(\"Do you wnat to vist Y/N\")\n",
    "    q = input().strip()\n",
    "    if q=='y' or q=='Y':\n",
    "        webbrowser.open_new_tab(\"C:/Users/Sultan/Desktop/chatbot/chatbot/\" + content + \".htm\")\n",
    "    else:\n",
    "        print(\"Thanks!!\")\n",
    "    \n",
    "def chooseTheNumber():\n",
    "    global question\n",
    "    global answer\n",
    "    global content\n",
    "    \n",
    "    topicNumber = int(input())\n",
    "    \n",
    "    question = [all_question[index] for index, top in enumerate(all_title) if top == titles[topicNumber-1]]\n",
    "    answer = [all_answer[index] for index, top in enumerate(all_title) if top == titles[topicNumber-1]]\n",
    "    content = [all_content[index] for index, top in enumerate(all_title) if top == titles[topicNumber-1]]\n",
    "    \n",
    "    \n",
    "    print(\"content======\", content)\n",
    "\n",
    "    print(\"You have chosen the topic: \", titles[topicNumber-1])\n",
    "    print(\"___________________________________________________________________________________________________________\")\n",
    "    \n",
    "def askQuestion(ques):\n",
    "    print(\"\\n___________________________________________________________________________________________________________\")\n",
    "    print(\"Answers are\")\n",
    "    for i, q in enumerate(question):\n",
    "        if ques == q: \n",
    "            index = i\n",
    "            print(\"->\", answer[i])\n",
    "            break \n",
    "    print(\"\\n___________________________________________________________________________________________________________\")\n",
    "        \n",
    "    \n",
    "print(\"s\")"
   ]
  },
  {
   "cell_type": "code",
   "execution_count": null,
   "metadata": {},
   "outputs": [
    {
     "name": "stdout",
     "output_type": "stream",
     "text": [
      "TOPICS TO SEARCH\n",
      "----------------\n",
      "\n",
      "1 Abraham_Lincoln     2 Alessandro_Volta     3 Amedeo_Avogadro     4 Anders_Celsius     5 Ant     6 Antwerp     7 Arabic_language     8 Bee     9 Beijing     10 Berlin     11 Blaise_Pascal     12 Butterfly     13 Calvin_Coolidge     14 Canada     15 Cello     16 Charles-Augustin_de_Coulomb     17 Chinese_language     18 Copenhagen     19 Cougar     20 Cymbal     21 Dhaka     22 Dragonfly     23 Drum     24 Eel     25 Egypt     26 English_language     27 Finland     28 Finnish_language     29 Flute     30 Fox     31 French_language     32 Gerald_Ford     33 German_language     34 Ghana     35 Giant_Panda     36 Giraffe     37 Gray_Wolf     38 Grover_Cleveland     39 Guitar     40 Henri_Becquerel     41 Indonesia     42 Isaac_Newton     43 Italian_language     44 Jackson_Pollock     45 Jakarta     46 James_Monroe     47 James_Watt     48 Japanese_language     49 John_Adams     50 Koala     51 Korean_language     52 Kuala_Lumpur     53 Leonardo_da_Vinci     54 Liechtenstein     55 Lima     56 Lobster     57 London     58 Lyre     59 Malay_language     60 Melbourne     61 Michael_Faraday     62 Michelangelo     63 Millard_Fillmore     64 Montreal     65 Nairobi     66 Nassau     67 Nikola_Tesla     68 Norman_Rockwell     69 Octopus     70 Ottawa     71 Otter     72 Pablo_Picasso     73 Piano     74 Pierre-Auguste_Renoir     75 Portuguese_language     76 Qatar     77 Romania     78 Saint_Petersburg     79 San_Francisco     80 Santiago     81 Singapore     82 Spanish_language     83 Swahili_language     84 Swan     85 Swedish_language     86 Taipei     87 Theodore_Roosevelt     88 Tiger     89 Trumpet     90 Turkish_language     91 Turtle     92 Ulysses_S._Grant     93 Uruguay     94 Vietnamese_language     95 Vincent_van_Gogh     96 Violin     97 Woodrow_Wilson     98 Xylophone     99 Zebra     100 beetle     101 duck     102 elephant     103 kangaroo     104 leopard     105 otter     106 penguin     107 polar_bear     108 turtle     \n",
      "___________________________________________________________________________________________________________\n"
     ]
    }
   ],
   "source": [
    "def main():\n",
    "    chooseTheTopic()\n",
    "    chooseTheNumber()\n",
    "    print(\"Ask question\")\n",
    "    q = input().strip()\n",
    "    index = askQuestion(q)\n",
    "    displayContent(content[0])\n",
    "    displayUrl(content[0])\n",
    "if __name__ == \"__main__\":\n",
    "    main()"
   ]
  },
  {
   "cell_type": "code",
   "execution_count": null,
   "metadata": {},
   "outputs": [],
   "source": []
  },
  {
   "cell_type": "code",
   "execution_count": null,
   "metadata": {},
   "outputs": [],
   "source": []
  },
  {
   "cell_type": "code",
   "execution_count": null,
   "metadata": {},
   "outputs": [],
   "source": []
  },
  {
   "cell_type": "code",
   "execution_count": null,
   "metadata": {},
   "outputs": [],
   "source": []
  },
  {
   "cell_type": "code",
   "execution_count": null,
   "metadata": {},
   "outputs": [],
   "source": []
  },
  {
   "cell_type": "code",
   "execution_count": null,
   "metadata": {},
   "outputs": [],
   "source": []
  },
  {
   "cell_type": "code",
   "execution_count": null,
   "metadata": {},
   "outputs": [],
   "source": []
  },
  {
   "cell_type": "code",
   "execution_count": null,
   "metadata": {},
   "outputs": [],
   "source": []
  },
  {
   "cell_type": "code",
   "execution_count": null,
   "metadata": {},
   "outputs": [],
   "source": []
  },
  {
   "cell_type": "code",
   "execution_count": null,
   "metadata": {},
   "outputs": [],
   "source": []
  },
  {
   "cell_type": "code",
   "execution_count": null,
   "metadata": {},
   "outputs": [],
   "source": []
  },
  {
   "cell_type": "code",
   "execution_count": null,
   "metadata": {},
   "outputs": [],
   "source": []
  },
  {
   "cell_type": "code",
   "execution_count": null,
   "metadata": {},
   "outputs": [],
   "source": []
  },
  {
   "cell_type": "code",
   "execution_count": null,
   "metadata": {},
   "outputs": [],
   "source": []
  },
  {
   "cell_type": "code",
   "execution_count": null,
   "metadata": {},
   "outputs": [],
   "source": []
  },
  {
   "cell_type": "code",
   "execution_count": null,
   "metadata": {},
   "outputs": [],
   "source": []
  },
  {
   "cell_type": "code",
   "execution_count": null,
   "metadata": {},
   "outputs": [],
   "source": []
  },
  {
   "cell_type": "code",
   "execution_count": null,
   "metadata": {},
   "outputs": [],
   "source": []
  },
  {
   "cell_type": "code",
   "execution_count": null,
   "metadata": {},
   "outputs": [],
   "source": []
  },
  {
   "cell_type": "code",
   "execution_count": null,
   "metadata": {},
   "outputs": [],
   "source": []
  },
  {
   "cell_type": "code",
   "execution_count": null,
   "metadata": {},
   "outputs": [],
   "source": []
  },
  {
   "cell_type": "code",
   "execution_count": null,
   "metadata": {},
   "outputs": [],
   "source": []
  },
  {
   "cell_type": "code",
   "execution_count": null,
   "metadata": {},
   "outputs": [],
   "source": []
  },
  {
   "cell_type": "code",
   "execution_count": null,
   "metadata": {},
   "outputs": [],
   "source": []
  },
  {
   "cell_type": "code",
   "execution_count": null,
   "metadata": {},
   "outputs": [],
   "source": []
  },
  {
   "cell_type": "code",
   "execution_count": null,
   "metadata": {},
   "outputs": [],
   "source": []
  },
  {
   "cell_type": "code",
   "execution_count": null,
   "metadata": {},
   "outputs": [],
   "source": []
  },
  {
   "cell_type": "code",
   "execution_count": null,
   "metadata": {},
   "outputs": [],
   "source": []
  },
  {
   "cell_type": "code",
   "execution_count": null,
   "metadata": {},
   "outputs": [],
   "source": []
  },
  {
   "cell_type": "code",
   "execution_count": null,
   "metadata": {},
   "outputs": [],
   "source": []
  }
 ],
 "metadata": {
  "kernelspec": {
   "display_name": "Python 3",
   "language": "python",
   "name": "python3"
  },
  "language_info": {
   "codemirror_mode": {
    "name": "ipython",
    "version": 3
   },
   "file_extension": ".py",
   "mimetype": "text/x-python",
   "name": "python",
   "nbconvert_exporter": "python",
   "pygments_lexer": "ipython3",
   "version": "3.7.1"
  }
 },
 "nbformat": 4,
 "nbformat_minor": 2
}
